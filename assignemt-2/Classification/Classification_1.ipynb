{
 "cells": [
  {
   "cell_type": "code",
   "execution_count": 21,
   "id": "0b1b683a",
   "metadata": {},
   "outputs": [],
   "source": [
    "import numpy as np\n",
    "import matplotlib.pyplot as plt\n",
    "import pandas as pd\n",
    "import random\n",
    "import math"
   ]
  },
  {
   "cell_type": "code",
   "execution_count": 22,
   "id": "15f45588",
   "metadata": {},
   "outputs": [],
   "source": [
    "data_c = pd.read_csv('train.csv')\n",
    "data_test = pd.read_csv('test.csv')\n",
    "df_c = pd.DataFrame(data_c)\n",
    "df_t = pd.DataFrame(data_test)\n",
    "l = len(df_c)\n",
    "df_c = df_c.drop('id', 1)\n",
    "df_c = df_c.drop('CARTYPE_03_CAT', 1)\n",
    "df_c = df_c.drop('CARTYPE_05_CAT', 1)\n",
    "df_t = df_t.drop('CARTYPE_03_CAT', 1)\n",
    "df_t = df_t.drop('CARTYPE_05_CAT', 1)\n",
    "y = df_c['target']\n",
    "df_c = df_c.drop('target', 1)\n",
    "id_1 = df_t['id']\n",
    "df_t = df_t.drop('id', 1)"
   ]
  },
  {
   "cell_type": "raw",
   "id": "9027ab7b",
   "metadata": {},
   "source": [
    "df_c.isna().sum()"
   ]
  },
  {
   "cell_type": "raw",
   "id": "09a3b1ba",
   "metadata": {},
   "source": [
    "#df_c['REGISTRATION_03'].fillna(df_c['REGISTRATION_03'].mean(), inplace=True)\n",
    "#df_c['CARTYPE_03_CAT'].fillna(1, inplace=True)\n",
    "#df_c['CARTYPE_14'].fillna(df_c['CARTYPE_14'].mean(), inplace=True)\n",
    "#df_c['CARTYPE_11'].fillna(df_c['CARTYPE_11'].median(), inplace=True)\n",
    "for col in df_c.columns:\n",
    "    if df_c[col].isna().sum() > 0:\n",
    "        #print(col)\n",
    "        df_c[col].fillna(df_c[col].mean(), inplace=True)"
   ]
  },
  {
   "cell_type": "raw",
   "id": "69c6678c",
   "metadata": {},
   "source": [
    "df_c.isna().sum()"
   ]
  },
  {
   "cell_type": "raw",
   "id": "9eb163d0",
   "metadata": {},
   "source": [
    "#df_t['REGISTRATION_03'].fillna(df_t['REGISTRATION_03'].mean(), inplace=True)\n",
    "#df_t['CARTYPE_03_CAT'].fillna(1, inplace=True)\n",
    "#df_t['CARTYPE_14'].fillna(df_t['CARTYPE_14'].mean(), inplace=True)\n",
    "#df_t['CARTYPE_11'].fillna(df_t['CARTYPE_11'].median(), inplace=True)\n",
    "for col in df_t.columns:\n",
    "    if df_t[col].isna().sum() > 0:\n",
    "        #print(col)\n",
    "        df_t[col].fillna(df_t[col].mean(), inplace=True)"
   ]
  },
  {
   "cell_type": "raw",
   "id": "7bb231c4",
   "metadata": {},
   "source": [
    "df_t.isna().sum()"
   ]
  },
  {
   "cell_type": "code",
   "execution_count": 23,
   "id": "02488825",
   "metadata": {},
   "outputs": [
    {
     "name": "stdout",
     "output_type": "stream",
     "text": [
      "(297606, 55)\n"
     ]
    }
   ],
   "source": [
    "X_train = df_c\n",
    "X_train = np.array(X_train)\n",
    "X_train\n",
    "X_test = df_t\n",
    "X_test = np.array(X_test)\n",
    "X_test\n",
    "print(X_train.shape)"
   ]
  },
  {
   "cell_type": "code",
   "execution_count": 24,
   "id": "2e04d6ca",
   "metadata": {},
   "outputs": [
    {
     "data": {
      "text/plain": [
       "array([1, 0, 0, ..., 0, 1, 0])"
      ]
     },
     "execution_count": 24,
     "metadata": {},
     "output_type": "execute_result"
    }
   ],
   "source": [
    "Y_train = np.array(y)\n",
    "Y_train"
   ]
  },
  {
   "cell_type": "code",
   "execution_count": 25,
   "id": "b6f2634b",
   "metadata": {},
   "outputs": [
    {
     "data": {
      "text/plain": [
       "SimpleImputer()"
      ]
     },
     "execution_count": 25,
     "metadata": {},
     "output_type": "execute_result"
    }
   ],
   "source": [
    "from sklearn.impute import SimpleImputer\n",
    "imp1 = SimpleImputer(missing_values=np.nan, strategy='mean')\n",
    "imp2 = SimpleImputer(missing_values=np.nan, strategy='mean')\n",
    "imp1.fit(X_train)"
   ]
  },
  {
   "cell_type": "code",
   "execution_count": 26,
   "id": "041972b3",
   "metadata": {},
   "outputs": [
    {
     "name": "stdout",
     "output_type": "stream",
     "text": [
      "[[ 1.  1. 21. ... 21.  0.  1.]\n",
      " [ 0.  1.  7. ... 35.  0.  0.]\n",
      " [ 1.  0. 21. ... 21.  0.  0.]\n",
      " ...\n",
      " [ 1.  0.  7. ...  7.  0.  0.]\n",
      " [ 1.  1. 21. ... 35.  0.  0.]\n",
      " [ 1.  0. 14. ... 56.  1.  1.]]\n"
     ]
    }
   ],
   "source": [
    "X_train = imp1.transform(X_train)\n",
    "print(X_train)"
   ]
  },
  {
   "cell_type": "code",
   "execution_count": 27,
   "id": "b64f182a",
   "metadata": {},
   "outputs": [
    {
     "data": {
      "text/plain": [
       "SimpleImputer()"
      ]
     },
     "execution_count": 27,
     "metadata": {},
     "output_type": "execute_result"
    }
   ],
   "source": [
    "imp2.fit(X_test)"
   ]
  },
  {
   "cell_type": "code",
   "execution_count": 28,
   "id": "af3302c9",
   "metadata": {},
   "outputs": [
    {
     "name": "stdout",
     "output_type": "stream",
     "text": [
      "[[ 1.  0.  7. ... 14.  0.  0.]\n",
      " [ 1.  0. 14. ... 28.  1.  0.]\n",
      " [ 0.  0.  7. ... 35.  0.  0.]\n",
      " ...\n",
      " [ 1.  0. 21. ...  7.  1.  0.]\n",
      " [ 1.  0. 28. ...  7.  1.  1.]\n",
      " [ 0.  0.  7. ... 28.  0.  0.]]\n"
     ]
    }
   ],
   "source": [
    "X_test = imp2.transform(X_test)\n",
    "print(X_test)"
   ]
  },
  {
   "cell_type": "raw",
   "id": "236e7cd2",
   "metadata": {},
   "source": [
    "from imblearn.over_sampling import SMOTE\n",
    "oversample = SMOTE()\n",
    "X_train, Y_train = oversample.fit_resample(X_train, Y_train)"
   ]
  },
  {
   "cell_type": "code",
   "execution_count": 29,
   "id": "2934f813",
   "metadata": {},
   "outputs": [],
   "source": [
    "from sklearn.preprocessing import StandardScaler\n",
    "scaler = StandardScaler()\n",
    "scaler.fit(X_train)\n",
    "X_train = scaler.transform(X_train)\n",
    "X_test = scaler.transform(X_test)"
   ]
  },
  {
   "cell_type": "code",
   "execution_count": 30,
   "id": "15b107f0",
   "metadata": {},
   "outputs": [
    {
     "data": {
      "text/plain": [
       "array([[0.39452935, 0.60547065],\n",
       "       [0.49444605, 0.50555395],\n",
       "       [0.53285619, 0.46714381],\n",
       "       ...,\n",
       "       [0.443415  , 0.556585  ],\n",
       "       [0.58704765, 0.41295235],\n",
       "       [0.60925071, 0.39074929]])"
      ]
     },
     "execution_count": 30,
     "metadata": {},
     "output_type": "execute_result"
    }
   ],
   "source": [
    "from sklearn.linear_model import LogisticRegression\n",
    "logistic = LogisticRegression(random_state = 0, max_iter = 1000, class_weight = \"balanced\")\n",
    "l = logistic.fit(X_train, Y_train)\n",
    "y_pred = l.predict_proba(X_test)\n",
    "y_pred"
   ]
  },
  {
   "cell_type": "code",
   "execution_count": 33,
   "id": "6c8eee43",
   "metadata": {},
   "outputs": [
    {
     "name": "stdout",
     "output_type": "stream",
     "text": [
      "            id    target\n",
      "0            0  0.605471\n",
      "1            1  0.505554\n",
      "2            2  0.467144\n",
      "3            3  0.385507\n",
      "4            4  0.468510\n",
      "...        ...       ...\n",
      "297601  297601  0.504942\n",
      "297602  297602  0.432330\n",
      "297603  297603  0.556585\n",
      "297604  297604  0.412952\n",
      "297605  297605  0.390749\n",
      "\n",
      "[297606 rows x 2 columns]\n",
      "0\n"
     ]
    }
   ],
   "source": [
    "result_df = pd.DataFrame(id_1, columns = ['id'])\n",
    "result_df['target'] = y_pred[:,1] \n",
    "print(result_df)\n",
    "count = 0\n",
    "for i in range(len(df_t)):\n",
    "    if(y_pred[i,1] == 1):\n",
    "        count += 1\n",
    "print(count)"
   ]
  },
  {
   "cell_type": "code",
   "execution_count": 34,
   "id": "32d17ea2",
   "metadata": {},
   "outputs": [],
   "source": [
    "result_df.to_csv('submission_class_2.csv',index = False)"
   ]
  },
  {
   "cell_type": "code",
   "execution_count": null,
   "id": "792bbbc2",
   "metadata": {},
   "outputs": [],
   "source": []
  }
 ],
 "metadata": {
  "kernelspec": {
   "display_name": "Python 3",
   "language": "python",
   "name": "python3"
  },
  "language_info": {
   "codemirror_mode": {
    "name": "ipython",
    "version": 3
   },
   "file_extension": ".py",
   "mimetype": "text/x-python",
   "name": "python",
   "nbconvert_exporter": "python",
   "pygments_lexer": "ipython3",
   "version": "3.6.9"
  }
 },
 "nbformat": 4,
 "nbformat_minor": 5
}
