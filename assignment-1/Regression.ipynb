{
 "cells": [
  {
   "cell_type": "markdown",
   "id": "b0fae659",
   "metadata": {},
   "source": [
    "# Regression Models"
   ]
  },
  {
   "cell_type": "code",
   "execution_count": 1,
   "id": "1c90522a",
   "metadata": {
    "scrolled": true
   },
   "outputs": [],
   "source": [
    "import numpy as np\n",
    "import matplotlib.pyplot as plt\n",
    "import pandas as pd\n",
    "import random\n",
    "import math\n",
    "#from sklearn.linear_model import LinearRegression "
   ]
  },
  {
   "cell_type": "markdown",
   "id": "c104278d",
   "metadata": {},
   "source": [
    "This is a regression problem in which the goal is to use meteorological and\n",
    "other data to predict the burnt area of forest fires in the northeast region of Portugal."
   ]
  },
  {
   "cell_type": "markdown",
   "id": "a06a6c9a",
   "metadata": {},
   "source": [
    "# Separating training data"
   ]
  },
  {
   "cell_type": "code",
   "execution_count": 2,
   "id": "56d8ad65",
   "metadata": {},
   "outputs": [],
   "source": [
    "data = pd.read_csv('Forest_Fires_1A.csv')\n",
    "#df = pd.DataFrame({'SEED':data})\n",
    "#np.random.seed(5)\n",
    "df = pd.DataFrame(data)\n",
    "n = 80\n",
    "df_1 = df.head(int(len(df)*(n/100)))\n",
    "l = len(df_1)\n",
    "x = df_1.iloc[0:,0:12]\n",
    "x['13'] = 1\n",
    "x = np.array(x)\n",
    "area_train = df_1['area']\n",
    "area_train = np.array(area_train)\n",
    "x_uni_closed = df_1.iloc[0:,9:10]\n",
    "x_uni_closed['1'] = 1\n",
    "x_uni_closed = np.array(x_uni_closed)"
   ]
  },
  {
   "cell_type": "markdown",
   "id": "0413b39a",
   "metadata": {},
   "source": [
    "# Separating test data"
   ]
  },
  {
   "cell_type": "code",
   "execution_count": 3,
   "id": "88cda8ef",
   "metadata": {},
   "outputs": [],
   "source": [
    "n = 20\n",
    "df_2 = df.tail(int(len(df)*(n/100)))\n",
    "x_test = df_2.iloc[0:,0:12]\n",
    "x_test['13'] = 1\n",
    "x_test = np.array(x_test)\n",
    "area_test = df_2['area']\n",
    "RH_test = df_2['RH']"
   ]
  },
  {
   "cell_type": "markdown",
   "id": "00bcb5c4",
   "metadata": {},
   "source": [
    "# Linear Regression(Closed form) Multivariate\n",
    "In multivariate models we take more than one variate.  \n",
    "Generally in Linear Regression we try to fit a straight line.  \n",
    "Data : {X(train), y}.  \n",
    "Model : y_pred = w.T @ X (where w is weights of all variates).  \n",
    "Loss function : summation(y_pred - y)^2.  \n",
    "We have to choose weights such that loss function is minimised.  \n",
    "To find weights,  \n",
    "In closed form solution we differentiate loss function with all weights and make them equal to 0.  \n",
    "By soloving equation the equation we get:\n",
    "W = (X.T @ X)^(-1) @ (X.T@Y)"
   ]
  },
  {
   "cell_type": "code",
   "execution_count": 4,
   "id": "a6adc15a",
   "metadata": {},
   "outputs": [
    {
     "name": "stdout",
     "output_type": "stream",
     "text": [
      "[  0.93876828   0.03496786   1.20255328   0.04304955  -0.05813767\n",
      "   0.13194779  -0.01153822  -0.66874919   0.34491199  -0.21315533\n",
      "   0.72024577 -10.08203177   3.16205712]\n"
     ]
    }
   ],
   "source": [
    "w = np.linalg.inv(x.T@x)@(x.T@area_train)\n",
    "print(w)"
   ]
  },
  {
   "cell_type": "markdown",
   "id": "ca3ed6e0",
   "metadata": {},
   "source": [
    "Now we got all weights.  \n",
    "We put them in equation and predict Y for test data"
   ]
  },
  {
   "cell_type": "code",
   "execution_count": 5,
   "id": "1780e592",
   "metadata": {},
   "outputs": [
    {
     "name": "stdout",
     "output_type": "stream",
     "text": [
      "[ 25.99337428  21.78616853  11.3726493   18.41538758  16.74864365\n",
      "  24.38718899  19.64622927  40.85379613  10.79495466  28.61102423\n",
      "  17.70811684  23.48059794  19.31288933  18.02484102  15.878219\n",
      "  41.29932851  12.61375019  23.70342482  13.66236478  23.39550621\n",
      "   7.75451213  23.56149968  16.36435283  17.40391808   9.22016572\n",
      "  35.23894844  24.75216898  -3.41624611  -5.65894846  32.45761146\n",
      "  -5.94406038  11.93180321   6.07113987  29.33363886  14.82983909\n",
      "  13.25994613  -3.40868928  18.91466134  22.10390884  18.12335887\n",
      "   7.96041391  16.18804388  12.15869653  19.75392178  23.12444533\n",
      "  14.08634425  19.75392178  28.77155858  -3.80529139  -3.25024777\n",
      "  -7.06527579   7.2828938    5.64830297  10.20847222   1.60511408\n",
      "   0.73251766  10.68574719  10.78969051  12.67735474  15.41218665\n",
      "  13.20792591  12.19763484   8.6580605    1.257904    14.36708789\n",
      "  23.30108689  19.32500267   6.64416702  16.51219627  10.98690051\n",
      "   4.83515825   7.38643427   8.15346629  -0.20545022  -1.51503526\n",
      "   8.55229877  16.42847828  12.81764296  12.35782882  17.32761629\n",
      "   9.81850221  14.96543862  15.50718562  19.27664852 -52.68126515\n",
      "   2.3595399    1.38580377   1.40430165   5.41983022   7.37208067\n",
      "   9.49060114   5.61570954  12.46852869  11.4598247   -3.99926546\n",
      "  10.42292772  10.07343503   6.85292435  -3.10492126   2.20885827\n",
      "   7.41432617  14.44819622]\n"
     ]
    }
   ],
   "source": [
    "Area_predict_closed = x_test @ w\n",
    "print(Area_predict_closed)"
   ]
  },
  {
   "cell_type": "markdown",
   "id": "3ed1f550",
   "metadata": {},
   "source": [
    "We got Y_predict, now to see efficiency of the model we calculate the mean square error which is same as loss function.  \n",
    "summation(y_pred - y)^2"
   ]
  },
  {
   "cell_type": "code",
   "execution_count": 6,
   "id": "f1c32d81",
   "metadata": {},
   "outputs": [
    {
     "name": "stdout",
     "output_type": "stream",
     "text": [
      "659754.2977067346\n"
     ]
    }
   ],
   "source": [
    "Error_closed = Area_predict_closed - area_test\n",
    "Error_closed = Error_closed@Error_closed.T\n",
    "print(Error_closed)"
   ]
  },
  {
   "cell_type": "markdown",
   "id": "ac8a276e",
   "metadata": {},
   "source": [
    "We got error as 659754.2977067346.  \n",
    "Observation : Results are better for large datasets with diversity"
   ]
  },
  {
   "cell_type": "markdown",
   "id": "4f4b4f07",
   "metadata": {},
   "source": [
    "# Linear Regression (Closed form ) Univariate"
   ]
  },
  {
   "cell_type": "markdown",
   "id": "32d3b1f8",
   "metadata": {},
   "source": [
    "In univariate models there is only one variate.  \n",
    "Generally in Linear Regression We try to fit a straight line of the form y = ax + b.  \n",
    "Data : {x(train), y}.  \n",
    "Model : y_pred = ax + b (where a,b are weights of all variates).  \n",
    "Loss function : summation(y_pred - y)^2.  \n",
    "We have to choose weights such that loss function is minimised.  \n",
    "To find weights, In closed form solution we differentiate loss function with weights and make them equal to 0.  \n",
    "By soloving equation the equation we get: W = (X.T @ X)^(-1) @ (X.T@Y).  \n",
    "Here for univariate Iam taking RH(Relative Humidity)"
   ]
  },
  {
   "cell_type": "code",
   "execution_count": 7,
   "id": "e36cee36",
   "metadata": {},
   "outputs": [
    {
     "name": "stdout",
     "output_type": "stream",
     "text": [
      "[-0.25478819 22.41071466]\n"
     ]
    }
   ],
   "source": [
    "w_uni = np.linalg.inv(x_uni_closed.T@x_uni_closed)@(x_uni_closed.T@area_train)\n",
    "print(w_uni)"
   ]
  },
  {
   "cell_type": "markdown",
   "id": "d82f3796",
   "metadata": {},
   "source": [
    "Now we got a,b.  \n",
    "We put them in equation and predict Y for test data"
   ]
  },
  {
   "cell_type": "code",
   "execution_count": 8,
   "id": "748c79a9",
   "metadata": {},
   "outputs": [
    {
     "name": "stdout",
     "output_type": "stream",
     "text": [
      "411    15.531434\n",
      "412    12.473975\n",
      "413    16.295798\n",
      "414    11.709611\n",
      "415    13.238340\n",
      "         ...    \n",
      "508    14.257493\n",
      "509     4.320753\n",
      "510     4.575541\n",
      "511    11.709611\n",
      "512    14.512281\n",
      "Name: RH, Length: 102, dtype: float64\n"
     ]
    }
   ],
   "source": [
    "Area_predict_uni_closed = w_uni[0]*RH_test + w_uni[1]\n",
    "print(Area_predict_uni_closed)"
   ]
  },
  {
   "cell_type": "markdown",
   "id": "3a73f64b",
   "metadata": {},
   "source": [
    "We got Y_predict, now to see efficiency of the model we calculate the mean square error which is same as loss function.  \n",
    "summation(y_pred - y)^2"
   ]
  },
  {
   "cell_type": "code",
   "execution_count": 9,
   "id": "95d552fa",
   "metadata": {},
   "outputs": [
    {
     "name": "stdout",
     "output_type": "stream",
     "text": [
      "663759.9746236483\n"
     ]
    }
   ],
   "source": [
    "Error_uni_closed = Area_predict_uni_closed - area_test\n",
    "Error_uni_closed = Error_uni_closed@Error_uni_closed.T\n",
    "print(Error_uni_closed)"
   ]
  },
  {
   "cell_type": "markdown",
   "id": "ff95c21a",
   "metadata": {},
   "source": [
    "We got error as 663759.9746236483.  \n",
    "Observation : Error in univariate is more than error in Multivariate. So we can say that RH is not very good variate to predict area burnt and more variates give good results"
   ]
  },
  {
   "cell_type": "markdown",
   "id": "ae147203",
   "metadata": {},
   "source": [
    "# Linear Regression (Gradient descent ) Multivariate"
   ]
  },
  {
   "cell_type": "markdown",
   "id": "de12bae0",
   "metadata": {},
   "source": [
    "In multivariate models we take more than one variate.  \n",
    "Generally in Linear Regression we try to fit a straight line.  \n",
    "Data : {X(train), y}.  \n",
    "Model : y_pred = w.T @ X (where w is weights of all variates).  \n",
    "Loss function : summation(y_pred - y)^2.  \n",
    "We have to choose weights such that loss function is minimised.    \n",
    "The difference between closed and gradient is the optimization method which we use for finding weights.    \n",
    "Gradient descent : Θ(new) = Θ(old) - learingrate * d/dΘ(loss function)  "
   ]
  },
  {
   "cell_type": "code",
   "execution_count": 10,
   "id": "9bb35d62",
   "metadata": {},
   "outputs": [],
   "source": [
    "def gradient_descent(data, learning_rate, weight, num_iters, n):##function to calculate weights with gradient descent\n",
    "    for i in range(num_iters):\n",
    "        gra = np.zeros(n)\n",
    "        for j in range(len(data)):\n",
    "            for k in range(n):\n",
    "                gra[k] += ((data[j]*weight).sum() - area_train[j])*data[j][k]\n",
    "        weight = weight - learning_rate*gra\n",
    "    return weight"
   ]
  },
  {
   "cell_type": "markdown",
   "id": "4356003c",
   "metadata": {},
   "source": [
    "Training the data"
   ]
  },
  {
   "cell_type": "code",
   "execution_count": 11,
   "id": "69b2089e",
   "metadata": {},
   "outputs": [
    {
     "name": "stdout",
     "output_type": "stream",
     "text": [
      "[ 1.03141470e-02  5.01684683e-03  3.71995658e-02 -9.91666755e-04\n",
      "  4.76843479e-02  6.93020247e-02  4.88981995e-03 -1.77573703e-02\n",
      "  2.83275199e-02 -7.94582093e-02  3.19038045e-03 -8.89734442e-05\n",
      "  5.39698543e-04]\n"
     ]
    }
   ],
   "source": [
    "learning_rate = 0.00000001\n",
    "num_iters = 500\n",
    "weight = np.zeros(13)\n",
    "weight = gradient_descent(x, learning_rate, weight, num_iters, 13)\n",
    "print(weight)"
   ]
  },
  {
   "cell_type": "markdown",
   "id": "33398dda",
   "metadata": {},
   "source": [
    "Now we got all weights.  \n",
    "We put them in equation and predict Y for test data"
   ]
  },
  {
   "cell_type": "code",
   "execution_count": 12,
   "id": "17232254",
   "metadata": {},
   "outputs": [
    {
     "name": "stdout",
     "output_type": "stream",
     "text": [
      "[21.89810212 16.36486745  4.4596098  19.03538055 17.73011224 18.65847067\n",
      " 22.1305671  25.26425745 11.63840097 22.28993101 21.35625916 21.43821143\n",
      " 20.13320904 21.22069065 17.09407836 25.69645599 17.07241109 20.92782543\n",
      " 19.55153651 24.01970229  8.79952091 20.01217958 20.18185105 20.38274401\n",
      " 11.48073844 24.79753035 20.45369825  1.37464074  5.8880164  24.77160475\n",
      "  2.36348199 16.68231529  3.41782419 22.65706115 15.63728088 19.56571366\n",
      " 14.26821678 19.78857134 22.85188992 21.27749928 15.01445934 21.02186884\n",
      " 17.27373076 19.44533743 22.08293129 19.3784357  19.44533743 22.22925168\n",
      " -2.23951848 -1.83595186 -0.33079544  2.33763234  3.03726462  4.42978104\n",
      "  3.12830477  3.69874868  3.99072358  6.36987906  6.68368886 11.23652168\n",
      " 12.05504095 10.91433432 10.71399496  7.58780828  9.85525248 14.1458794\n",
      " 14.30385836 13.7645467  15.07312085 15.2201568  15.18892595 14.36561373\n",
      " 15.13727689 12.00147787 13.04733656 15.27185873 17.26739575 17.26274329\n",
      " 16.9723599  17.47089659 17.16303396 18.65804094 19.02159611 19.16693631\n",
      " 16.073781   15.76922697 15.75389597 15.37464467 15.71283576 15.79940716\n",
      " 17.14516921 14.26859993 17.02560125 17.00525341 14.54946228 15.19087307\n",
      "  9.20385302  9.38592052  6.11419672  6.22826775 14.8914508   2.79375225]\n"
     ]
    }
   ],
   "source": [
    "Area_predict_gradient = x_test @ weight\n",
    "print(Area_predict_gradient)"
   ]
  },
  {
   "cell_type": "markdown",
   "id": "4688b2df",
   "metadata": {},
   "source": [
    "We got Y_predict, now to see efficiency of the model we calculate the mean square error which is same as loss function.  \n",
    "summation(y_pred - y)^2"
   ]
  },
  {
   "cell_type": "code",
   "execution_count": 13,
   "id": "ab8d05cc",
   "metadata": {},
   "outputs": [
    {
     "name": "stdout",
     "output_type": "stream",
     "text": [
      "662333.0766500426\n"
     ]
    }
   ],
   "source": [
    "Error_gradient = Area_predict_gradient - area_test\n",
    "Error_gradient = Error_gradient@Error_gradient.T\n",
    "print(Error_gradient)"
   ]
  },
  {
   "cell_type": "markdown",
   "id": "bb61c384",
   "metadata": {},
   "source": [
    "We got error as 662333.0766500426  \n",
    "Observation : Results are better for large datasets with diversity"
   ]
  },
  {
   "cell_type": "markdown",
   "id": "98d43503",
   "metadata": {},
   "source": [
    "#  Linear Regression (Gradient descent) Univariate"
   ]
  },
  {
   "cell_type": "markdown",
   "id": "ec89af06",
   "metadata": {},
   "source": [
    "In univariate models there is only one variate.    \n",
    "Generally in Linear Regression We try to fit a straight line of the form y = ax + b.    \n",
    "Data : {x(train), y}.    \n",
    "Model : y_pred = ax + b (where a,b are weights of all variates).    \n",
    "Loss function : summation(y_pred - y)^2.    \n",
    "We have to choose weights such that loss function is minimised.    \n",
    "In gradient descent our minimization method is :  \n",
    "Gradient descent : Θ(new) = Θ(old) - learingrate * d/dΘ(loss function)"
   ]
  },
  {
   "cell_type": "code",
   "execution_count": 14,
   "id": "55702190",
   "metadata": {},
   "outputs": [
    {
     "name": "stdout",
     "output_type": "stream",
     "text": [
      "[0.19953193 0.01485845]\n"
     ]
    }
   ],
   "source": [
    "learning_rate_uni = 0.00000001\n",
    "num_iters_uni = 1000\n",
    "weight_uni = np.zeros(2)\n",
    "weight_uni = gradient_descent(x_uni_closed, learning_rate_uni, weight_uni, num_iters_uni, 2)\n",
    "print(weight_uni)"
   ]
  },
  {
   "cell_type": "markdown",
   "id": "7f76fe36",
   "metadata": {},
   "source": [
    "Now we got all weights.  \n",
    "We put them in equation and predict Y for test data"
   ]
  },
  {
   "cell_type": "code",
   "execution_count": 15,
   "id": "b24842a3",
   "metadata": {},
   "outputs": [
    {
     "name": "stdout",
     "output_type": "stream",
     "text": [
      "411     5.402221\n",
      "412     7.796604\n",
      "413     4.803625\n",
      "414     8.395199\n",
      "415     7.198008\n",
      "         ...    \n",
      "508     6.399880\n",
      "509    14.181625\n",
      "510    13.982093\n",
      "511     8.395199\n",
      "512     6.200348\n",
      "Name: RH, Length: 102, dtype: float64\n"
     ]
    }
   ],
   "source": [
    "Area_predict_gradient_uni =  weight_uni[0]*RH_test + weight_uni[1]\n",
    "print(Area_predict_gradient_uni)"
   ]
  },
  {
   "cell_type": "markdown",
   "id": "264dfd41",
   "metadata": {},
   "source": [
    "We got Y_predict, now to see efficiency of the model we calculate the mean square error which is same as loss function.  \n",
    "summation(y_pred - y)^2"
   ]
  },
  {
   "cell_type": "code",
   "execution_count": 16,
   "id": "bf733386",
   "metadata": {},
   "outputs": [
    {
     "name": "stdout",
     "output_type": "stream",
     "text": [
      "679497.2457544276\n"
     ]
    }
   ],
   "source": [
    "Error_gradient_uni = Area_predict_gradient_uni - area_test\n",
    "Error_gradient_uni = Error_gradient_uni@Error_gradient_uni.T\n",
    "print(Error_gradient_uni)"
   ]
  },
  {
   "cell_type": "markdown",
   "id": "b55bf8bf",
   "metadata": {},
   "source": [
    "Our error is 679497.2457544276.  \n",
    "Observation : Error in univariate is more than multivariate which means our variate RH is not a good variate and we get better results for more variates and diverse data"
   ]
  },
  {
   "cell_type": "markdown",
   "id": "10288e80",
   "metadata": {},
   "source": [
    "# Linear Regression (Newton's Method) Multivariate"
   ]
  },
  {
   "cell_type": "markdown",
   "id": "76c1a281",
   "metadata": {},
   "source": [
    "In multivariate models we take more than one variate.  \n",
    "Generally in Linear Regression we try to fit a straight line.  \n",
    "Data : {X(train), y}.  \n",
    "Model : y_pred = softmax(w.T @ X) (where w is weights of all variates).  \n",
    "Loss function : summation(y_pred - y)^2.  \n",
    "We have to choose weights such that loss function is minimised.  \n",
    "The difference between closed and gradient and newton's method is the optimization method which we use for finding weights.  \n",
    "Θ(new) = Θ(old) - H^(-1)@G  \n",
    "G is gradient.  \n",
    "G = X.T@(Y_pred - Y)  \n",
    "H is Hessian matrix  \n",
    "H = X.T @ S @ X  \n",
    "S = Y_pred(1 - Y_pred)  "
   ]
  },
  {
   "cell_type": "code",
   "execution_count": 17,
   "id": "e7e073e9",
   "metadata": {},
   "outputs": [],
   "source": [
    "def gradient_descent_newton(data, weight, num_iters, n, correction):#function to calculate weights from newtons optimization\n",
    "    for i in range(num_iters):\n",
    "        gra = np.zeros(n)\n",
    "        s = np.zeros(len(data))\n",
    "        for j in range(len(data)):\n",
    "            for k in range(n):\n",
    "                a = (data[j]*weight).sum()\n",
    "                b = (area_train[j] - a)\n",
    "                gra[k] += (a - area_train[j])*data[j][k]\n",
    "            s[j] = b\n",
    "        S = np.diag(s)\n",
    "        h = data.T @ S @ data\n",
    "        weight = weight - np.linalg.inv(h - correction * np.identity(n))@gra\n",
    "    return weight"
   ]
  },
  {
   "cell_type": "markdown",
   "id": "85447cb2",
   "metadata": {},
   "source": [
    "Training the data"
   ]
  },
  {
   "cell_type": "code",
   "execution_count": 18,
   "id": "f66ce7fd",
   "metadata": {},
   "outputs": [
    {
     "name": "stdout",
     "output_type": "stream",
     "text": [
      "[ 1.81896469e-06  2.93257981e-06 -6.02911777e-08  1.13081803e-06\n",
      " -2.61506007e-07 -8.74825017e-08  4.15367477e-09  3.07652225e-07\n",
      "  1.19031918e-06  4.27617629e-07 -3.96743786e-07 -2.52540665e-05\n",
      "  4.99999667e+01]\n"
     ]
    }
   ],
   "source": [
    "num_iters_n = 50\n",
    "weight_n = np.zeros(13)\n",
    "weight_n = gradient_descent_newton(x, weight_n, num_iters_n, 13, 0.0001)\n",
    "print(weight_n)"
   ]
  },
  {
   "cell_type": "markdown",
   "id": "c1306b01",
   "metadata": {},
   "source": [
    "Now we got all weights.  \n",
    "We put them in equation and predict Y for test data"
   ]
  },
  {
   "cell_type": "code",
   "execution_count": 19,
   "id": "c458f9a7",
   "metadata": {},
   "outputs": [
    {
     "name": "stdout",
     "output_type": "stream",
     "text": [
      "[50.00000857 50.00000505 50.00000025 49.99999427 49.99999673 50.00002055\n",
      " 49.99999625 50.00000557 49.99999797 50.00000573 49.9999874  50.00001005\n",
      " 49.99999271 49.99998813 49.9999988  49.99999296 49.99998858 50.00000828\n",
      " 49.99999762 49.99998219 50.00000851 50.00000939 50.0000087  49.9999972\n",
      " 49.99999165 49.99998636 50.00000508 50.00000866 49.99999778 49.99998384\n",
      " 50.00002174 50.00001082 49.99998986 49.99999935 50.00000668 50.00000649\n",
      " 49.99999675 50.00000008 49.99999406 49.99999045 49.99999423 49.99998983\n",
      " 49.99999477 50.0000098  49.99999729 49.99999595 50.0000098  49.99998736\n",
      " 50.00001641 50.0000123  49.99998814 50.00000028 49.99999618 49.99999944\n",
      " 49.99999531 49.99999992 49.99999564 50.00001095 50.00002094 50.00000349\n",
      " 50.0000014  50.0000036  50.0000075  50.00002211 50.00001267 50.0000294\n",
      " 50.00000127 50.00000043 50.00001904 50.00000739 50.00000244 50.00000842\n",
      " 50.00000838 50.00001247 50.00001197 50.00000985 50.00000441 49.9999937\n",
      " 49.99998781 50.00001248 50.00000922 50.00000581 50.00000481 50.00001377\n",
      " 49.99986177 50.00000201 49.99999726 49.99999961 50.00000654 50.00000646\n",
      " 49.999993   49.9999911  49.99999585 49.99998817 49.99997148 50.00000516\n",
      " 50.00002621 50.00000886 50.00001657 50.00002405 49.99999786 49.99999677]\n"
     ]
    }
   ],
   "source": [
    "Area_predict_gradient_n = x_test @ weight_n\n",
    "print(Area_predict_gradient_n)"
   ]
  },
  {
   "cell_type": "markdown",
   "id": "76d92249",
   "metadata": {},
   "source": [
    "We got Y_predict, now to see efficiency of the model we calculate the mean square error which is same as loss function.  \n",
    "summation(y_pred - y)^2"
   ]
  },
  {
   "cell_type": "code",
   "execution_count": 20,
   "id": "6c213b1e",
   "metadata": {},
   "outputs": [
    {
     "name": "stdout",
     "output_type": "stream",
     "text": [
      "757988.0482076426\n"
     ]
    }
   ],
   "source": [
    "Error_gradient_n = Area_predict_gradient_n - area_test\n",
    "Error_gradient_n = Error_gradient_n@Error_gradient_n.T\n",
    "print(Error_gradient_n)"
   ]
  },
  {
   "cell_type": "markdown",
   "id": "a1fa64d1",
   "metadata": {},
   "source": [
    "Our error is 757988.0482076426.  \n",
    "Observation : We get better results for large and diverse datasets"
   ]
  },
  {
   "cell_type": "markdown",
   "id": "53b39404",
   "metadata": {},
   "source": [
    "# Linear Regression (Newton's Method) Univariate"
   ]
  },
  {
   "cell_type": "markdown",
   "id": "bc295ac8",
   "metadata": {},
   "source": [
    "In univariate models there is only one variate.  \n",
    "Generally in Linear Regression We try to fit a straight line of the form y = ax + b.  \n",
    "Data : {x(train), y}.  \n",
    "Model : y_pred = softmax(ax + b) (where a,b are weights of all variates).  \n",
    "Loss function : summation(y_pred - y)^2.  \n",
    "We have to choose weights such that loss function is minimised.  \n",
    "The difference between closed and gradient and newton's method is the optimization method which we use for finding weights.  \n",
    "Gradient descent : Θ(new) = Θ(old) -  ( d/dΘ(loss function))/(d^2/dΘ(loss function))  "
   ]
  },
  {
   "cell_type": "code",
   "execution_count": 21,
   "id": "c45e78db",
   "metadata": {},
   "outputs": [
    {
     "name": "stdout",
     "output_type": "stream",
     "text": [
      "[7.51725604e-08 4.99999995e+02]\n"
     ]
    }
   ],
   "source": [
    "num_iters_nu = 500\n",
    "weight_nu = np.zeros(2)\n",
    "weight_nu = gradient_descent_newton(x_uni_closed, weight_nu, num_iters_nu, 2, 0.0001)\n",
    "print(weight_nu)"
   ]
  },
  {
   "cell_type": "markdown",
   "id": "574209f7",
   "metadata": {},
   "source": [
    "Now we got all weights.  \n",
    "We put them in equation and predict Y for test data"
   ]
  },
  {
   "cell_type": "code",
   "execution_count": 22,
   "id": "dec9715d",
   "metadata": {},
   "outputs": [],
   "source": [
    "Area_predict_gradient_uni_n =  weight_nu[0]*RH_test + weight_nu[1]"
   ]
  },
  {
   "cell_type": "markdown",
   "id": "d3de0a12",
   "metadata": {},
   "source": [
    "We got Y_predict, now to see efficiency of the model we calculate the mean square error which is same as loss function.  \n",
    "summation(y_pred - y)^2"
   ]
  },
  {
   "cell_type": "code",
   "execution_count": 23,
   "id": "e0e59ee7",
   "metadata": {},
   "outputs": [
    {
     "name": "stdout",
     "output_type": "stream",
     "text": [
      "24231445.924455136\n"
     ]
    }
   ],
   "source": [
    "Error_gradient_nu = Area_predict_gradient_uni_n - area_test\n",
    "Error_gradient_nu = Error_gradient_nu@Error_gradient_nu.T\n",
    "print(Error_gradient_nu)"
   ]
  },
  {
   "cell_type": "markdown",
   "id": "2482bc4c",
   "metadata": {},
   "source": [
    "Our Error is 24231445.924455136  \n",
    "Observation : Error is very high so RH is not suitable variate to predict area burnt"
   ]
  },
  {
   "cell_type": "markdown",
   "id": "9bf072a8",
   "metadata": {},
   "source": [
    "# Conclusion:\n",
    "For our dataset we got better results for Linear Regression closed form (Multivariate)"
   ]
  }
 ],
 "metadata": {
  "kernelspec": {
   "display_name": "Python 3",
   "language": "python",
   "name": "python3"
  },
  "language_info": {
   "codemirror_mode": {
    "name": "ipython",
    "version": 3
   },
   "file_extension": ".py",
   "mimetype": "text/x-python",
   "name": "python",
   "nbconvert_exporter": "python",
   "pygments_lexer": "ipython3",
   "version": "3.6.9"
  }
 },
 "nbformat": 4,
 "nbformat_minor": 5
}
